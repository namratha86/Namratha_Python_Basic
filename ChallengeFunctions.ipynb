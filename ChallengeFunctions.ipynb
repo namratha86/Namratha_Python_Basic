{
  "nbformat": 4,
  "nbformat_minor": 0,
  "metadata": {
    "colab": {
      "provenance": [],
      "authorship_tag": "ABX9TyPqlvf3ZsSt7nnszqDnfXIF",
      "include_colab_link": true
    },
    "kernelspec": {
      "name": "python3",
      "display_name": "Python 3"
    },
    "language_info": {
      "name": "python"
    }
  },
  "cells": [
    {
      "cell_type": "markdown",
      "metadata": {
        "id": "view-in-github",
        "colab_type": "text"
      },
      "source": [
        "<a href=\"https://colab.research.google.com/github/namratha86/Namratha_Python_Basic/blob/main/ChallengeFunctions.ipynb\" target=\"_parent\"><img src=\"https://colab.research.google.com/assets/colab-badge.svg\" alt=\"Open In Colab\"/></a>"
      ]
    },
    {
      "cell_type": "markdown",
      "source": [
        "Challenge 1"
      ],
      "metadata": {
        "id": "HSFij-wyMRUQ"
      }
    },
    {
      "cell_type": "code",
      "execution_count": null,
      "metadata": {
        "colab": {
          "base_uri": "https://localhost:8080/"
        },
        "id": "rZQ0Kxe4MOho",
        "outputId": "8a89581e-9105-4222-cc31-b53585014e10"
      },
      "outputs": [
        {
          "output_type": "stream",
          "name": "stdout",
          "text": [
            "9\n"
          ]
        }
      ],
      "source": [
        "def print_k_largest(myList, k):\n",
        "    myList.sort()\n",
        "    return myList[k-1]\n",
        "\n",
        "list1 = [ 14, 9, 3, 5, 1]\n",
        "k = 4\n",
        "k_largest = print_k_largest(list1, k)\n",
        "print(k_largest)"
      ]
    },
    {
      "cell_type": "markdown",
      "source": [
        "Challenge 2"
      ],
      "metadata": {
        "id": "O3NkEQRlNTIs"
      }
    },
    {
      "cell_type": "code",
      "source": [
        "def number_list():\n",
        "  numbers = []\n",
        "  term_range = int(input(\"Enter the number of terms: \"))\n",
        "  for i in range(term_range):\n",
        "    term = int(input(f\"Enter the {i+1} term for the list: \"))\n",
        "    numbers.append(term)\n",
        "  return numbers\n",
        "\n",
        "list_num = number_list()\n",
        "print(list_num)"
      ],
      "metadata": {
        "colab": {
          "base_uri": "https://localhost:8080/"
        },
        "id": "BY2WdkQ3NShX",
        "outputId": "398b9e65-f8f1-4c00-f31a-0503487663e1"
      },
      "execution_count": null,
      "outputs": [
        {
          "output_type": "stream",
          "name": "stdout",
          "text": [
            "Enter the number of terms: 5\n",
            "Enter the 1 term for the list: 1\n",
            "Enter the 2 term for the list: 3\n",
            "Enter the 3 term for the list: 4\n",
            "Enter the 4 term for the list: 34\n",
            "Enter the 5 term for the list: 42\n",
            "[1, 3, 4, 34, 42]\n"
          ]
        }
      ]
    },
    {
      "cell_type": "markdown",
      "source": [
        "challenge 3"
      ],
      "metadata": {
        "id": "Qa5jUpe9QHnV"
      }
    },
    {
      "cell_type": "code",
      "source": [
        "import random\n",
        "\n",
        "while True:\n",
        "  ques = input(\"ask the magic 8 ball a question:\")\n",
        "  answer = random.randint(1,3)\n",
        "  if ques == \"\":\n",
        "    print(\"Stopping the game\")\n",
        "    break\n",
        "  if answer == 1:\n",
        "    print(\"Yes\")\n",
        "  elif answer == 2:\n",
        "    print(\"No\")\n",
        "  elif answer == 3:\n",
        "    print(\"Maybe\")"
      ],
      "metadata": {
        "colab": {
          "base_uri": "https://localhost:8080/"
        },
        "id": "CSURZ5-1PLgB",
        "outputId": "91068571-94b6-41cb-a74c-c44e4770e9cd"
      },
      "execution_count": 6,
      "outputs": [
        {
          "output_type": "stream",
          "name": "stdout",
          "text": [
            "ask the magic 8 ball a question:Python is great\n",
            "Yes\n",
            "ask the magic 8 ball a question:The world is inhumane\n",
            "Maybe\n",
            "ask the magic 8 ball a question:believe in yourself\n",
            "No\n",
            "ask the magic 8 ball a question:trust everyone\n",
            "Maybe\n",
            "ask the magic 8 ball a question:\n",
            "Stopping the game\n"
          ]
        }
      ]
    }
  ]
}