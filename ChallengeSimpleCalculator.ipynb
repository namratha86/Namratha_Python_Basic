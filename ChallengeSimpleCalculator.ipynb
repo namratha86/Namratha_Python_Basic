{
  "nbformat": 4,
  "nbformat_minor": 0,
  "metadata": {
    "colab": {
      "provenance": [],
      "authorship_tag": "ABX9TyMePeGTKQURlZEgFrQuK//Q",
      "include_colab_link": true
    },
    "kernelspec": {
      "name": "python3",
      "display_name": "Python 3"
    },
    "language_info": {
      "name": "python"
    }
  },
  "cells": [
    {
      "cell_type": "markdown",
      "metadata": {
        "id": "view-in-github",
        "colab_type": "text"
      },
      "source": [
        "<a href=\"https://colab.research.google.com/github/namratha86/Namratha_Python_Basic/blob/main/ChallengeSimpleCalculator.ipynb\" target=\"_parent\"><img src=\"https://colab.research.google.com/assets/colab-badge.svg\" alt=\"Open In Colab\"/></a>"
      ]
    },
    {
      "cell_type": "code",
      "execution_count": 2,
      "metadata": {
        "colab": {
          "base_uri": "https://localhost:8080/"
        },
        "id": "wgwCBtsBwhnm",
        "outputId": "ec3b4ce6-0795-4a28-b814-4c10973490b0"
      },
      "outputs": [
        {
          "name": "stdout",
          "output_type": "stream",
          "text": [
            "Select one operation from below:\n",
            "1. Addition\n",
            "2. Subtraction\n",
            "3. Multiplication\n",
            "4. Division\n",
            "Enter your choice from 1/2/3/4: 1\n",
            "Enter Number 1:34\n",
            "Enter Number 2:45\n",
            "34.0 + 45.0 = 79.0\n",
            "Do you want to continue? (y/n):y\n",
            "Enter your choice from 1/2/3/4: 2\n",
            "Enter Number 1:23\n",
            "Enter Number 2:11\n",
            "23.0 - 11.0 = 12.0\n",
            "Do you want to continue? (y/n):y\n",
            "Enter your choice from 1/2/3/4: 3\n",
            "Enter Number 1:34\n",
            "Enter Number 2:2\n",
            "34.0 * 2.0 = 68.0\n",
            "Do you want to continue? (y/n):y\n",
            "Enter your choice from 1/2/3/4: 2\n",
            "Enter Number 1:34\n",
            "Enter Number 2:56\n",
            "34.0 - 56.0 = 22.0\n",
            "Do you want to continue? (y/n):y\n",
            "Enter your choice from 1/2/3/4: 4\n",
            "Enter Number 1:45\n",
            "Enter Number 2:56\n",
            "45.0 / 56.0 = 0.8035714285714286\n",
            "Do you want to continue? (y/n):n\n"
          ]
        }
      ],
      "source": [
        "#add two numbers\n",
        "def add(num1, num2):\n",
        "  return num1 + num2\n",
        "\n",
        "#subtract two numbers\n",
        "def sub(num1, num2):\n",
        "  if num1 > num2:\n",
        "    return num1 - num2\n",
        "  else:\n",
        "    return num2 - num1\n",
        "\n",
        "#multiply two numbers\n",
        "def mul(num1, num2):\n",
        "  return num1 * num2\n",
        "\n",
        "#divide two numbers\n",
        "def div(num1, num2):\n",
        "  return num1 / num2\n",
        "\n",
        "print(\"Select one operation from below:\")\n",
        "print(\"1. Addition\")\n",
        "print(\"2. Subtraction\")\n",
        "print(\"3. Multiplication\")\n",
        "print(\"4. Division\")\n",
        "\n",
        "while True:\n",
        "  #user input\n",
        "  user_choice = int(input(\"Enter your choice from 1/2/3/4: \"))\n",
        "\n",
        "  #Check the choice\n",
        "  if user_choice in (1, 2, 3, 4):\n",
        "    num1 = float(input(\"Enter Number 1:\"))\n",
        "    num2 = float(input(\"Enter Number 2:\"))\n",
        "\n",
        "    if user_choice == 1:\n",
        "      print(num1, \"+\" , num2, \"=\", add(num1, num2))\n",
        "\n",
        "    elif user_choice == 2:\n",
        "      print(num1, \"-\" , num2, \"=\", sub(num1, num2))\n",
        "\n",
        "    elif user_choice == 3:\n",
        "      print(num1, \"*\" , num2, \"=\", mul(num1, num2))\n",
        "\n",
        "    elif user_choice == 4:\n",
        "      print(num1, \"/\", num2, \"=\", div(num1, num2))\n",
        "\n",
        "    next = input(\"Do you want to continue? (y/n):\")\n",
        "    if next == \"n\":\n",
        "      break\n",
        "\n",
        "  else:\n",
        "    print(\"Invalid input\")"
      ]
    }
  ]
}