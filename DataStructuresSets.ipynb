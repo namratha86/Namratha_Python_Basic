{
  "nbformat": 4,
  "nbformat_minor": 0,
  "metadata": {
    "colab": {
      "provenance": [],
      "authorship_tag": "ABX9TyNsuz2FONNrRFF2IVMwY5UW",
      "include_colab_link": true
    },
    "kernelspec": {
      "name": "python3",
      "display_name": "Python 3"
    },
    "language_info": {
      "name": "python"
    }
  },
  "cells": [
    {
      "cell_type": "markdown",
      "metadata": {
        "id": "view-in-github",
        "colab_type": "text"
      },
      "source": [
        "<a href=\"https://colab.research.google.com/github/namratha86/Namratha_Python_Basic/blob/main/DataStructuresSets.ipynb\" target=\"_parent\"><img src=\"https://colab.research.google.com/assets/colab-badge.svg\" alt=\"Open In Colab\"/></a>"
      ]
    },
    {
      "cell_type": "markdown",
      "source": [
        "Declare and print a Set"
      ],
      "metadata": {
        "id": "OGYgBf-idTXB"
      }
    },
    {
      "cell_type": "markdown",
      "source": [],
      "metadata": {
        "id": "3TrAIk9Ovybw"
      }
    },
    {
      "cell_type": "code",
      "execution_count": null,
      "metadata": {
        "colab": {
          "base_uri": "https://localhost:8080/"
        },
        "id": "OlYPCEg_dA2b",
        "outputId": "c2ff35f8-68d1-4ce6-bf7a-51893cc8535b"
      },
      "outputs": [
        {
          "output_type": "stream",
          "name": "stdout",
          "text": [
            "{'hello', 1, 2, 3.5}\n"
          ]
        }
      ],
      "source": [
        "my_set = {1, 2, \"hello\", 3.5, \"hello\"}\n",
        "print(my_set)"
      ]
    },
    {
      "cell_type": "markdown",
      "source": [
        "Access elements in a set cannot use indexing or slicing because they are unordered. You can check if a val is present in the set using \"in\""
      ],
      "metadata": {
        "id": "0m5XzpqweT0U"
      }
    },
    {
      "cell_type": "code",
      "source": [
        "print(2 in my_set)\n",
        "print(\"world\" in my_set)"
      ],
      "metadata": {
        "colab": {
          "base_uri": "https://localhost:8080/"
        },
        "id": "hQW3tdGueoBE",
        "outputId": "65aafadf-334a-4a8d-cad8-1cfb4f360aa7"
      },
      "execution_count": null,
      "outputs": [
        {
          "output_type": "stream",
          "name": "stdout",
          "text": [
            "True\n",
            "False\n"
          ]
        }
      ]
    },
    {
      "cell_type": "markdown",
      "source": [
        "Add to set using add() and remove using remove()"
      ],
      "metadata": {
        "id": "gomWu9lme_i4"
      }
    },
    {
      "cell_type": "code",
      "source": [
        "my_set.add(\"world\")\n",
        "print(my_set)"
      ],
      "metadata": {
        "colab": {
          "base_uri": "https://localhost:8080/"
        },
        "id": "rz8zSeZLfEBe",
        "outputId": "af4e5089-1bc6-4664-e763-9a06a9ffed0b"
      },
      "execution_count": null,
      "outputs": [
        {
          "output_type": "stream",
          "name": "stdout",
          "text": [
            "{1, 2, 3.5, 'hello', 'world'}\n"
          ]
        }
      ]
    },
    {
      "cell_type": "code",
      "source": [
        "my_set.remove(2)\n",
        "print(my_set)"
      ],
      "metadata": {
        "colab": {
          "base_uri": "https://localhost:8080/"
        },
        "id": "o58ObJ2BfLey",
        "outputId": "06ffaa83-4c02-4fcc-aefd-6c295e534e9e"
      },
      "execution_count": null,
      "outputs": [
        {
          "output_type": "stream",
          "name": "stdout",
          "text": [
            "{1, 3.5, 'hello', 'world'}\n"
          ]
        }
      ]
    },
    {
      "cell_type": "markdown",
      "source": [
        "Set Operations - Union (|), intersection (&) and difference (-)"
      ],
      "metadata": {
        "id": "P4coNoysfRjT"
      }
    },
    {
      "cell_type": "code",
      "source": [
        "set1 = {1, 2, 3}\n",
        "set2 = {2, 3, 4}\n",
        "set_union = set1 | set2\n",
        "set_inter = set1 & set2\n",
        "set_diff = set1  - set2 #Elements exclusive to set1\n",
        "print(\"Set Union:\", set_union)\n",
        "print(\"Set Intersection\", set_inter)\n",
        "print(\"Set Differene\", set_diff)"
      ],
      "metadata": {
        "colab": {
          "base_uri": "https://localhost:8080/"
        },
        "id": "LEbja1r7fYv1",
        "outputId": "e60e962a-fd3a-4f21-977c-bc5fa2b855f5"
      },
      "execution_count": null,
      "outputs": [
        {
          "output_type": "stream",
          "name": "stdout",
          "text": [
            "Set Union: {1, 2, 3, 4}\n",
            "Set Intersection {2, 3, 4}\n",
            "Set Differene {1}\n"
          ]
        }
      ]
    }
  ]
}