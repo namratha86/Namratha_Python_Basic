{
  "nbformat": 4,
  "nbformat_minor": 0,
  "metadata": {
    "colab": {
      "provenance": [],
      "authorship_tag": "ABX9TyNx6tRh8Ic1P6MzM74q/Yzc",
      "include_colab_link": true
    },
    "kernelspec": {
      "name": "python3",
      "display_name": "Python 3"
    },
    "language_info": {
      "name": "python"
    }
  },
  "cells": [
    {
      "cell_type": "markdown",
      "metadata": {
        "id": "view-in-github",
        "colab_type": "text"
      },
      "source": [
        "<a href=\"https://colab.research.google.com/github/namratha86/Namratha_Python_Basic/blob/main/EMICalculator.ipynb\" target=\"_parent\"><img src=\"https://colab.research.google.com/assets/colab-badge.svg\" alt=\"Open In Colab\"/></a>"
      ]
    },
    {
      "cell_type": "code",
      "execution_count": 1,
      "metadata": {
        "colab": {
          "base_uri": "https://localhost:8080/"
        },
        "id": "CqLBZvxw2aLG",
        "outputId": "7b48b00c-72dc-4cdf-ab1f-d5e7db3d0271"
      },
      "outputs": [
        {
          "output_type": "stream",
          "name": "stdout",
          "text": [
            "The EMI is $4166.666666666667\n"
          ]
        }
      ],
      "source": [
        "def loan_emi(amount):\n",
        "  emi = amount / 12\n",
        "  print(\"The EMI is ${}\".format(emi))\n",
        "\n",
        "loan_emi(50000)"
      ]
    },
    {
      "cell_type": "code",
      "source": [
        "def loan_emi(amount, duration):\n",
        "  emi = round((amount / duration), 2)\n",
        "  print(\"The EMI is ${}\".format(emi))"
      ],
      "metadata": {
        "id": "GOyi-Q5S3Kax"
      },
      "execution_count": 2,
      "outputs": []
    },
    {
      "cell_type": "code",
      "source": [
        "loan_emi(500000, 1 * 12)"
      ],
      "metadata": {
        "colab": {
          "base_uri": "https://localhost:8080/"
        },
        "id": "nWYegCUR3alw",
        "outputId": "5380c2ce-9efe-4c0a-d726-a38609aa7824"
      },
      "execution_count": 3,
      "outputs": [
        {
          "output_type": "stream",
          "name": "stdout",
          "text": [
            "The EMI is $41666.67\n"
          ]
        }
      ]
    },
    {
      "cell_type": "code",
      "source": [
        "loan_emi(500000, 2 * 12)"
      ],
      "metadata": {
        "colab": {
          "base_uri": "https://localhost:8080/"
        },
        "id": "R2J2PaaO3imN",
        "outputId": "7f271ed4-6910-4599-9ead-f6a198e89120"
      },
      "execution_count": 5,
      "outputs": [
        {
          "output_type": "stream",
          "name": "stdout",
          "text": [
            "The EMI is $20833.33\n"
          ]
        }
      ]
    },
    {
      "cell_type": "code",
      "source": [
        "def loan_emi(amount, duration):\n",
        "  emi = round((amount / duration), 2)\n",
        "  return emi"
      ],
      "metadata": {
        "id": "q2E1DaRD33n9"
      },
      "execution_count": 6,
      "outputs": []
    },
    {
      "cell_type": "code",
      "source": [
        "emi1 = loan_emi(500000, 1*12)"
      ],
      "metadata": {
        "id": "OipanGvr39g-"
      },
      "execution_count": 7,
      "outputs": []
    },
    {
      "cell_type": "code",
      "source": [
        "emi2 = loan_emi(500000, 2*12)"
      ],
      "metadata": {
        "id": "SdEnLgQt4Cb2"
      },
      "execution_count": 9,
      "outputs": []
    },
    {
      "cell_type": "code",
      "source": [
        "emi1"
      ],
      "metadata": {
        "colab": {
          "base_uri": "https://localhost:8080/"
        },
        "id": "Mz6yBFNC4MQA",
        "outputId": "f05007a1-34d7-4cf0-b92d-2f5f9c65bcfd"
      },
      "execution_count": 10,
      "outputs": [
        {
          "output_type": "execute_result",
          "data": {
            "text/plain": [
              "41666.67"
            ]
          },
          "metadata": {},
          "execution_count": 10
        }
      ]
    },
    {
      "cell_type": "code",
      "source": [
        "emi2"
      ],
      "metadata": {
        "colab": {
          "base_uri": "https://localhost:8080/"
        },
        "id": "GLu7C_X_4OVG",
        "outputId": "bf72392e-5245-4079-c926-e04fe12c5095"
      },
      "execution_count": 11,
      "outputs": [
        {
          "output_type": "execute_result",
          "data": {
            "text/plain": [
              "20833.33"
            ]
          },
          "metadata": {},
          "execution_count": 11
        }
      ]
    },
    {
      "cell_type": "markdown",
      "source": [
        "Optional Arguments"
      ],
      "metadata": {
        "id": "X8f1hMJm4cau"
      }
    },
    {
      "cell_type": "code",
      "source": [
        "def loan_emi(amount, duration, down_payment=0):\n",
        "  loan_amt = amount - down_payment\n",
        "  emi = round((loan_amt / duration), 2)\n",
        "  return emi"
      ],
      "metadata": {
        "id": "4oFuVqQz4s_k"
      },
      "execution_count": 12,
      "outputs": []
    },
    {
      "cell_type": "code",
      "source": [
        "emi1 = loan_emi(500000, 1*12, 100000)\n",
        "emi1"
      ],
      "metadata": {
        "colab": {
          "base_uri": "https://localhost:8080/"
        },
        "id": "3bGJZDOw48wi",
        "outputId": "e496f9f1-ae8d-4472-d39b-21baf2df2636"
      },
      "execution_count": 14,
      "outputs": [
        {
          "output_type": "execute_result",
          "data": {
            "text/plain": [
              "33333.33"
            ]
          },
          "metadata": {},
          "execution_count": 14
        }
      ]
    },
    {
      "cell_type": "markdown",
      "source": [
        "add rate of interest in the calculation"
      ],
      "metadata": {
        "id": "ongPEOC85kY2"
      }
    },
    {
      "cell_type": "code",
      "source": [
        "def loan_emi(amount, rate, duration, down_payment=0):\n",
        "  loan_amt = amount - down_payment\n",
        "  emi = loan_amt * rate * ((1 + rate)**duration) / (((1 + rate) ** duration) - 1)\n",
        "  return emi"
      ],
      "metadata": {
        "id": "bcAIQgSX5f-9"
      },
      "execution_count": 29,
      "outputs": []
    },
    {
      "cell_type": "code",
      "source": [
        "loan_emi(500000, 0.1/12, 1 * 12, 100000)"
      ],
      "metadata": {
        "colab": {
          "base_uri": "https://localhost:8080/"
        },
        "id": "o-eEE64f6NMs",
        "outputId": "c4d0513b-dfb0-47a6-ef14-9071ad757b23"
      },
      "execution_count": 30,
      "outputs": [
        {
          "output_type": "execute_result",
          "data": {
            "text/plain": [
              "35166.35489200396"
            ]
          },
          "metadata": {},
          "execution_count": 30
        }
      ]
    },
    {
      "cell_type": "code",
      "source": [
        "loan_emi(500000, 0.08/12, 1*12, 100000)"
      ],
      "metadata": {
        "colab": {
          "base_uri": "https://localhost:8080/"
        },
        "id": "VedmLFpx6Vae",
        "outputId": "cbbb96f8-119d-4da2-fa16-a8eacae9d35c"
      },
      "execution_count": 18,
      "outputs": [
        {
          "output_type": "execute_result",
          "data": {
            "text/plain": [
              "34795.371634168805"
            ]
          },
          "metadata": {},
          "execution_count": 18
        }
      ]
    },
    {
      "cell_type": "markdown",
      "source": [
        "Named Arguments"
      ],
      "metadata": {
        "id": "QCySHzTk6g0X"
      }
    },
    {
      "cell_type": "code",
      "source": [
        " emi3 = loan_emi(\n",
        "     amount = 500000,\n",
        "     rate = 0.1/12,\n",
        "     duration = 1 *12,\n",
        "     down_payment = 0\n",
        "  )"
      ],
      "metadata": {
        "id": "Kcr1ADXO6gTP"
      },
      "execution_count": 22,
      "outputs": []
    },
    {
      "cell_type": "code",
      "source": [
        "emi3"
      ],
      "metadata": {
        "colab": {
          "base_uri": "https://localhost:8080/"
        },
        "id": "zwzSNsWL64BJ",
        "outputId": "7eee75cd-fe45-4a70-a49a-b49f6b1b2358"
      },
      "execution_count": 23,
      "outputs": [
        {
          "output_type": "execute_result",
          "data": {
            "text/plain": [
              "43957.94361500495"
            ]
          },
          "metadata": {},
          "execution_count": 23
        }
      ]
    },
    {
      "cell_type": "markdown",
      "source": [
        "Module and Library function"
      ],
      "metadata": {
        "id": "iONekXwV7RpT"
      }
    },
    {
      "cell_type": "code",
      "source": [
        "import math\n",
        "def loan_emi(amount, rate, duration, down_payment=0):\n",
        "  loan_amt = amount - down_payment\n",
        "  emi = loan_amt * rate * ((1 + rate)**duration) / (((1 + rate) ** duration) - 1)\n",
        "  emi = math.ceil(emi)\n",
        "  return emi"
      ],
      "metadata": {
        "id": "_raHatug7RSP"
      },
      "execution_count": 31,
      "outputs": []
    },
    {
      "cell_type": "code",
      "source": [
        "emi3 = loan_emi(\n",
        "     amount = 500000,\n",
        "     rate = 0.1/12,\n",
        "     duration = 1*12,\n",
        "     down_payment = 100000\n",
        "  )\n",
        "\n",
        "emi3"
      ],
      "metadata": {
        "colab": {
          "base_uri": "https://localhost:8080/"
        },
        "id": "upA73zDK8CXB",
        "outputId": "649ae8ea-9cd3-491b-eb3d-4232b9f994de"
      },
      "execution_count": 32,
      "outputs": [
        {
          "output_type": "execute_result",
          "data": {
            "text/plain": [
              "35167"
            ]
          },
          "metadata": {},
          "execution_count": 32
        }
      ]
    },
    {
      "cell_type": "code",
      "source": [
        "emi2 = loan_emi(amount=500000,rate=0.1/12, duration=1*12)\n",
        "emi2"
      ],
      "metadata": {
        "colab": {
          "base_uri": "https://localhost:8080/"
        },
        "id": "Y6LZS3py8kKE",
        "outputId": "60f94f29-e81c-4fac-ce54-8cd0db129cd0"
      },
      "execution_count": 37,
      "outputs": [
        {
          "output_type": "execute_result",
          "data": {
            "text/plain": [
              "43958"
            ]
          },
          "metadata": {},
          "execution_count": 37
        }
      ]
    },
    {
      "cell_type": "code",
      "source": [
        "if emi3 < emi2:\n",
        "  print(\"Option 1 has a lower EMI: ${}\".format(emi3))\n",
        "else:\n",
        "  print(\"Option 2 has a lower EMI: ${}\".format(emi2))"
      ],
      "metadata": {
        "colab": {
          "base_uri": "https://localhost:8080/"
        },
        "id": "hJtiMcYB82Pt",
        "outputId": "1e2f108d-6bdd-4acf-e823-714537e4819d"
      },
      "execution_count": 40,
      "outputs": [
        {
          "output_type": "stream",
          "name": "stdout",
          "text": [
            "Option 1 has a lower EMI: $35167\n"
          ]
        }
      ]
    },
    {
      "cell_type": "markdown",
      "source": [
        "Using the Function"
      ],
      "metadata": {
        "id": "5G---zGZ96pw"
      }
    },
    {
      "cell_type": "code",
      "source": [
        "house_cost = 800000\n",
        "down_payment = 0.25 * house_cost\n",
        "loan_duration = 6 * 12\n",
        "interest_rate = 0.07/12\n",
        "\n",
        "house_emi = loan_emi(house_cost, interest_rate, loan_duration, down_payment)\n",
        "print(\"House EMI: ${}\".format(house_emi))"
      ],
      "metadata": {
        "colab": {
          "base_uri": "https://localhost:8080/"
        },
        "id": "parPd52w99OP",
        "outputId": "f6e2a001-c30e-480d-e326-a677fa410412"
      },
      "execution_count": 41,
      "outputs": [
        {
          "output_type": "stream",
          "name": "stdout",
          "text": [
            "House EMI: $10230\n"
          ]
        }
      ]
    },
    {
      "cell_type": "code",
      "source": [
        "car_cost = 60000\n",
        "loan_duration = 1*12\n",
        "rate_interest_car = 0.12/12\n",
        "\n",
        "car_emi = loan_emi(amount=car_cost, rate=rate_interest_car, duration=loan_duration)\n",
        "print(\"Car EMI: ${}\".format(car_emi))"
      ],
      "metadata": {
        "colab": {
          "base_uri": "https://localhost:8080/"
        },
        "id": "yMNlicbA-roV",
        "outputId": "505373ef-b311-4906-a9c8-2589cf1da5ae"
      },
      "execution_count": 45,
      "outputs": [
        {
          "output_type": "stream",
          "name": "stdout",
          "text": [
            "Car EMI: $5331\n"
          ]
        }
      ]
    },
    {
      "cell_type": "code",
      "source": [
        "print(\"Shaun makes a total monthly payment of ${} towards the car and house loan repayment.\".format(house_emi+car_emi))"
      ],
      "metadata": {
        "colab": {
          "base_uri": "https://localhost:8080/"
        },
        "id": "RIyMp9dc_FHy",
        "outputId": "1a6a2d6a-691d-4f28-d116-bd0f0b3b607b"
      },
      "execution_count": 46,
      "outputs": [
        {
          "output_type": "stream",
          "name": "stdout",
          "text": [
            "Shaun makes a total monthly payment of $15561 towards the car and house loan repayment.\n"
          ]
        }
      ]
    }
  ]
}