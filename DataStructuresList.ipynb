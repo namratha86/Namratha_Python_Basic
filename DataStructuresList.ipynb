{
  "nbformat": 4,
  "nbformat_minor": 0,
  "metadata": {
    "colab": {
      "provenance": [],
      "authorship_tag": "ABX9TyNThy/B+uV8c+QfQDU28k2d",
      "include_colab_link": true
    },
    "kernelspec": {
      "name": "python3",
      "display_name": "Python 3"
    },
    "language_info": {
      "name": "python"
    }
  },
  "cells": [
    {
      "cell_type": "markdown",
      "metadata": {
        "id": "view-in-github",
        "colab_type": "text"
      },
      "source": [
        "<a href=\"https://colab.research.google.com/github/namratha86/Namratha_Python_Basic/blob/main/DataStructuresList.ipynb\" target=\"_parent\"><img src=\"https://colab.research.google.com/assets/colab-badge.svg\" alt=\"Open In Colab\"/></a>"
      ]
    },
    {
      "cell_type": "markdown",
      "source": [
        "Declare a list consisting of elements of different data type.\n",
        "Access the elements using the index starting from 0"
      ],
      "metadata": {
        "id": "69bPeBccac_q"
      }
    },
    {
      "cell_type": "code",
      "execution_count": null,
      "metadata": {
        "colab": {
          "base_uri": "https://localhost:8080/"
        },
        "id": "AlpH81FiZdxM",
        "outputId": "b9b7fd7f-eae6-475c-c48e-0cf87b2071f1"
      },
      "outputs": [
        {
          "output_type": "stream",
          "name": "stdout",
          "text": [
            "1\n",
            "2\n"
          ]
        }
      ],
      "source": [
        "my_list = [1, 2, 3, 'hello', 'world', True, [4, 5, 6]]\n",
        "print(my_list[0])\n",
        "print(my_list[1])"
      ]
    },
    {
      "cell_type": "markdown",
      "source": [
        "Slicing element - access a subset of the elements from the list"
      ],
      "metadata": {
        "id": "XFIySrNfanTu"
      }
    },
    {
      "cell_type": "code",
      "source": [
        "print(my_list[0:3])\n",
        "print(my_list[2:5])\n",
        "print(my_list[4:7])"
      ],
      "metadata": {
        "colab": {
          "base_uri": "https://localhost:8080/"
        },
        "id": "1_wEp8xUasAT",
        "outputId": "a6ffe52b-90f1-4d21-a06d-d81ab440140f"
      },
      "execution_count": null,
      "outputs": [
        {
          "output_type": "stream",
          "name": "stdout",
          "text": [
            "[1, 2, 3]\n",
            "[3, 'hello', 'world']\n",
            "['world', True, [4, 5, 6]]\n"
          ]
        }
      ]
    },
    {
      "cell_type": "markdown",
      "source": [
        "Modify elements in the list"
      ],
      "metadata": {
        "id": "6hLuBgCsa_xK"
      }
    },
    {
      "cell_type": "code",
      "source": [
        "my_list[1] = 10 #Change the value of second element to 10\n",
        "my_list[1]"
      ],
      "metadata": {
        "colab": {
          "base_uri": "https://localhost:8080/"
        },
        "id": "gBY6M1Q5bD6U",
        "outputId": "06eaf1b2-b392-443e-8b7a-46c90e5ac4a3"
      },
      "execution_count": null,
      "outputs": [
        {
          "output_type": "execute_result",
          "data": {
            "text/plain": [
              "10"
            ]
          },
          "metadata": {},
          "execution_count": 7
        }
      ]
    },
    {
      "cell_type": "markdown",
      "source": [
        "Add elements into the list using append()"
      ],
      "metadata": {
        "id": "4PXTQwvUbTM5"
      }
    },
    {
      "cell_type": "code",
      "source": [
        "my_list.append(7)\n",
        "print(my_list)\n",
        "my_list.append('Test Append')\n",
        "print(my_list)"
      ],
      "metadata": {
        "colab": {
          "base_uri": "https://localhost:8080/"
        },
        "id": "0i_XDlk3bYDN",
        "outputId": "a106f5e3-44ed-4bb6-8890-76a2d8438db2"
      },
      "execution_count": null,
      "outputs": [
        {
          "output_type": "stream",
          "name": "stdout",
          "text": [
            "[1, 10, 3, 'hello', 'world', True, [4, 5, 6], 7, 7]\n",
            "[1, 10, 3, 'hello', 'world', True, [4, 5, 6], 7, 7, 'Test Append']\n"
          ]
        }
      ]
    },
    {
      "cell_type": "markdown",
      "source": [
        "Remove elements from list. It removes the first occurrence of the element fromt the list"
      ],
      "metadata": {
        "id": "Vd3pV9IYbuo_"
      }
    },
    {
      "cell_type": "code",
      "source": [
        "my_list.remove('hello')\n",
        "print(my_list)"
      ],
      "metadata": {
        "colab": {
          "base_uri": "https://localhost:8080/"
        },
        "id": "6qRi5tRMbyMI",
        "outputId": "2c68d8a3-5794-467b-e6b3-39d34c9207b6"
      },
      "execution_count": null,
      "outputs": [
        {
          "output_type": "stream",
          "name": "stdout",
          "text": [
            "[1, 10, 3, 'world', True, [4, 5, 6], 7, 7, 'Test Append']\n"
          ]
        }
      ]
    },
    {
      "cell_type": "code",
      "source": [
        "my_list.remove(7) #removes the first occurrence of 7 from my_list\n",
        "print(my_list)"
      ],
      "metadata": {
        "colab": {
          "base_uri": "https://localhost:8080/"
        },
        "id": "OmktDMv1b9ID",
        "outputId": "2fffea67-378c-440e-bd7d-87d6ccd8219d"
      },
      "execution_count": null,
      "outputs": [
        {
          "output_type": "stream",
          "name": "stdout",
          "text": [
            "[1, 10, 3, 'world', True, [4, 5, 6], 'Test Append', 7]\n"
          ]
        }
      ]
    },
    {
      "cell_type": "code",
      "source": [
        "my_list = [1,2,3,4,5]\n",
        "my_list[3:]"
      ],
      "metadata": {
        "colab": {
          "base_uri": "https://localhost:8080/"
        },
        "id": "2kM7mhMcmobA",
        "outputId": "f8e01bdf-ba7d-4707-d309-d77955e86882"
      },
      "execution_count": null,
      "outputs": [
        {
          "output_type": "execute_result",
          "data": {
            "text/plain": [
              "[4, 5]"
            ]
          },
          "metadata": {},
          "execution_count": 2
        }
      ]
    },
    {
      "cell_type": "code",
      "source": [
        "my_list[0:6:3]"
      ],
      "metadata": {
        "colab": {
          "base_uri": "https://localhost:8080/"
        },
        "id": "4c6vlkmqmzcX",
        "outputId": "d069919f-5228-4fd8-fb7f-04a6dbd5f283"
      },
      "execution_count": null,
      "outputs": [
        {
          "output_type": "execute_result",
          "data": {
            "text/plain": [
              "[1, 4]"
            ]
          },
          "metadata": {},
          "execution_count": 8
        }
      ]
    },
    {
      "cell_type": "code",
      "source": [
        "my_list[0:6:2]"
      ],
      "metadata": {
        "colab": {
          "base_uri": "https://localhost:8080/"
        },
        "id": "anrdc7P_nL9Z",
        "outputId": "9d46ac19-9a82-4399-cd37-a54b1eace8a8"
      },
      "execution_count": null,
      "outputs": [
        {
          "output_type": "execute_result",
          "data": {
            "text/plain": [
              "[1, 3, 5]"
            ]
          },
          "metadata": {},
          "execution_count": 9
        }
      ]
    },
    {
      "cell_type": "code",
      "source": [
        "my_list[::2]"
      ],
      "metadata": {
        "colab": {
          "base_uri": "https://localhost:8080/"
        },
        "id": "v0owPJs1m6xO",
        "outputId": "2bf84d3f-97d7-45e3-bcd3-5b2c92f764e8"
      },
      "execution_count": null,
      "outputs": [
        {
          "output_type": "execute_result",
          "data": {
            "text/plain": [
              "[1, 3, 5]"
            ]
          },
          "metadata": {},
          "execution_count": 4
        }
      ]
    },
    {
      "cell_type": "code",
      "source": [
        "myList = list(range(100))"
      ],
      "metadata": {
        "id": "aPDOmSgbnUgU"
      },
      "execution_count": null,
      "outputs": []
    },
    {
      "cell_type": "code",
      "source": [
        "myList[::10]"
      ],
      "metadata": {
        "colab": {
          "base_uri": "https://localhost:8080/"
        },
        "id": "oMk9Y3wyna8a",
        "outputId": "6e070ff3-f086-434e-b674-61266b85f152"
      },
      "execution_count": null,
      "outputs": [
        {
          "output_type": "execute_result",
          "data": {
            "text/plain": [
              "[0, 10, 20, 30, 40, 50, 60, 70, 80, 90]"
            ]
          },
          "metadata": {},
          "execution_count": 11
        }
      ]
    },
    {
      "cell_type": "code",
      "source": [
        "myList[::-10]"
      ],
      "metadata": {
        "colab": {
          "base_uri": "https://localhost:8080/"
        },
        "id": "f_5BOPddngZz",
        "outputId": "2b31fbed-8b9a-4d94-ea22-8f8ae7a95691"
      },
      "execution_count": null,
      "outputs": [
        {
          "output_type": "execute_result",
          "data": {
            "text/plain": [
              "[99, 89, 79, 69, 59, 49, 39, 29, 19, 9]"
            ]
          },
          "metadata": {},
          "execution_count": 12
        }
      ]
    },
    {
      "cell_type": "code",
      "source": [
        "my_list.append(6)\n",
        "print(my_list)"
      ],
      "metadata": {
        "colab": {
          "base_uri": "https://localhost:8080/"
        },
        "id": "bEyYWTTlnn6L",
        "outputId": "85aa9e6c-e756-43aa-9455-50ea03ac8ade"
      },
      "execution_count": null,
      "outputs": [
        {
          "output_type": "stream",
          "name": "stdout",
          "text": [
            "[1, 2, 3, 4, 5, 6]\n"
          ]
        }
      ]
    },
    {
      "cell_type": "code",
      "source": [
        "my_list.insert(4, 'Here')\n",
        "print(my_list)"
      ],
      "metadata": {
        "colab": {
          "base_uri": "https://localhost:8080/"
        },
        "id": "YM_EFwCmnzC8",
        "outputId": "c0ef3072-01d7-447c-fc42-7239c20228b4"
      },
      "execution_count": null,
      "outputs": [
        {
          "output_type": "stream",
          "name": "stdout",
          "text": [
            "[1, 2, 3, 4, 'Here', 'Here', 5, 6]\n"
          ]
        }
      ]
    },
    {
      "cell_type": "code",
      "source": [
        "my_list.remove('Here')"
      ],
      "metadata": {
        "id": "-8eHVu4bn_bE"
      },
      "execution_count": null,
      "outputs": []
    },
    {
      "cell_type": "code",
      "source": [
        "print(my_list)"
      ],
      "metadata": {
        "colab": {
          "base_uri": "https://localhost:8080/"
        },
        "id": "WoA4bsmGoE6x",
        "outputId": "cc3f331c-8267-412c-e74e-832f9101a683"
      },
      "execution_count": null,
      "outputs": [
        {
          "output_type": "stream",
          "name": "stdout",
          "text": [
            "[1, 2, 3, 4, 'Here', 5, 6]\n"
          ]
        }
      ]
    },
    {
      "cell_type": "code",
      "source": [
        "a = [1,2,3,4,5]\n",
        "b = a\n",
        "a.append(6)\n",
        "print(b)"
      ],
      "metadata": {
        "colab": {
          "base_uri": "https://localhost:8080/"
        },
        "id": "iFPxh6rpohBC",
        "outputId": "96c88ef6-55eb-41e6-be72-89328bdd539f"
      },
      "execution_count": null,
      "outputs": [
        {
          "output_type": "stream",
          "name": "stdout",
          "text": [
            "[1, 2, 3, 4, 5, 6]\n"
          ]
        }
      ]
    },
    {
      "cell_type": "code",
      "source": [
        "a = [1,2,3,4,5]\n",
        "b = a.copy()\n",
        "a.append(6)\n",
        "print(a)\n",
        "print(b)"
      ],
      "metadata": {
        "colab": {
          "base_uri": "https://localhost:8080/"
        },
        "id": "tvXhvjEVonQG",
        "outputId": "192d9b2d-0a54-41d1-8143-b60dbe216ad6"
      },
      "execution_count": null,
      "outputs": [
        {
          "output_type": "stream",
          "name": "stdout",
          "text": [
            "[1, 2, 3, 4, 5, 6]\n",
            "[1, 2, 3, 4, 5]\n"
          ]
        }
      ]
    }
  ]
}